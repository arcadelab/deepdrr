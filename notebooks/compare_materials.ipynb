{
 "cells": [
  {
   "cell_type": "code",
   "execution_count": null,
   "id": "9c5c1168",
   "metadata": {},
   "outputs": [],
   "source": [
    "# Materials to Composition String Mapping and Visualization\n",
    "# ---------------------------------------------------------\n",
    "# This notebook parses a CSV of material compositions,\n",
    "# registers them with DeepDRR, and plots attenuation coefficients.\n",
    "\n",
    "import os\n",
    "import matplotlib.pyplot as plt\n",
    "from deepdrr.material import Material\n",
    "\n",
    "# --- Load Materials CSV into DeepDRR ---\n",
    "\n",
    "script_dir = os.getcwd()  # Or use os.path.dirname(__file__) if run as script\n",
    "csv_path = os.path.join(script_dir, \"data/materials.csv\")\n",
    "Material.from_csv(csv_path)"
   ]
  },
  {
   "cell_type": "code",
   "execution_count": null,
   "id": "70c4239a",
   "metadata": {},
   "outputs": [],
   "source": [
    "# --- Plot attenuation curves for selected materials ---\n",
    "\n",
    "def plot_materials(keys):\n",
    "    fig, axs = plt.subplots(1, 2, figsize=(12, 6))\n",
    "\n",
    "    for key in keys:\n",
    "        mat = Material.from_string(key)\n",
    "        axs[0].plot(mat.energy, mat.mu_over_rho, label=key)\n",
    "        axs[1].plot(mat.energy, mat.mu_en_over_rho, label=key)\n",
    "\n",
    "    for ax, ylabel, title in zip(\n",
    "        axs,\n",
    "        [\"Mass Attenuation Coefficient [cm²/g]\", \"Mass Energy-Absorption Coefficient [cm²/g]\"],\n",
    "        [\"Mass Attenuation Coefficient vs Energy\", \"Mass Energy-Absorption Coefficient vs Energy\"]\n",
    "    ):\n",
    "        ax.set_xscale(\"log\")\n",
    "        ax.set_yscale(\"log\")\n",
    "        ax.set_xlabel(\"Energy [MeV]\")\n",
    "        ax.set_ylabel(ylabel)\n",
    "        ax.set_title(title)\n",
    "        ax.legend()\n",
    "\n",
    "    plt.tight_layout()\n",
    "    output_dir = os.path.join(script_dir, \"output\")\n",
    "    os.makedirs(output_dir, exist_ok=True)\n",
    "    plt.show()\n",
    "\n",
    "# Plot groups\n",
    "plot_materials([\"bone\", \"bone_0\", \"bone_1\", \"bone_2\", \"bone_3\", \"bone_4\"])\n",
    "plot_materials([\"tissue_soft\", \"soft_0\", \"soft_1\", \"soft_2\", \"soft_3\", \"soft_4\"])\n",
    "plot_materials([\"air\", \"air_0\", \"air_1\", \"air_2\", \"air_3\", \"air_4\"])\n",
    "plot_materials([\"blood\", \"water\"])"
   ]
  }
 ],
 "metadata": {
  "kernelspec": {
   "display_name": "deepdrr",
   "language": "python",
   "name": "python3"
  },
  "language_info": {
   "codemirror_mode": {
    "name": "ipython",
    "version": 3
   },
   "file_extension": ".py",
   "mimetype": "text/x-python",
   "name": "python",
   "nbconvert_exporter": "python",
   "pygments_lexer": "ipython3",
   "version": "3.10.16"
  }
 },
 "nbformat": 4,
 "nbformat_minor": 5
}
