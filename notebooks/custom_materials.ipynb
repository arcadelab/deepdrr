{
 "cells": [
  {
   "cell_type": "code",
   "execution_count": null,
   "id": "9c5c1168",
   "metadata": {},
   "outputs": [],
   "source": [
    "# Materials to Composition String Mapping and Visualization\n",
    "# ---------------------------------------------------------\n",
    "# This notebook parses a CSV of material compositions,\n",
    "# registers them with DeepDRR, and plots attenuation coefficients.\n",
    "\n",
    "import os\n",
    "import pandas as pd\n",
    "import matplotlib.pyplot as plt\n",
    "from deepdrr.material import Material\n",
    "\n",
    "# --- Load Materials CSV ---\n",
    "\n",
    "script_dir = os.getcwd()  # Or use os.path.dirname(__file__) if run as script\n",
    "csv_path = os.path.join(script_dir, \"data/materials.csv\")\n",
    "materials = pd.read_csv(csv_path)\n",
    "materials.head()"
   ]
  },
  {
   "cell_type": "markdown",
   "id": "cc1943be",
   "metadata": {},
   "source": [
    "Next we register custom Materials to be used in DeepDRR. After initializing them and registering them to the labelname you want to use they are available in any simulation."
   ]
  },
  {
   "cell_type": "code",
   "execution_count": null,
   "id": "14cbf283",
   "metadata": {},
   "outputs": [],
   "source": [
    "# --- Build Mapping: material name → composition string (e.g., H0.112O0.888) ---\n",
    "\n",
    "# Drop mass density column (not part of element composition)\n",
    "materials = materials.drop(columns=[\"MassDensity\"])\n",
    "\n",
    "# Dictionary to hold: name → composition string\n",
    "composition_map = {}\n",
    "\n",
    "for _, row in materials.iterrows():\n",
    "    name = row[\"Name\"]\n",
    "    composition = \"\".join(\n",
    "        f\"{col}{val:.6f}\".rstrip(\"0\").rstrip(\".\")  # clean float formatting\n",
    "        for col, val in row.items()\n",
    "        if col != \"Name\" and val > 0.0\n",
    "    )\n",
    "    composition_map[name] = composition\n",
    "\n",
    "    # NOTE Register material for DeepDRR\n",
    "    Material.from_string(composition, compound_string=True)\n",
    "    Material.register_map({name: composition})\n",
    "\n",
    "# Preview result\n",
    "composition_map"
   ]
  },
  {
   "cell_type": "code",
   "execution_count": null,
   "id": "70c4239a",
   "metadata": {},
   "outputs": [],
   "source": [
    "# --- Plot attenuation curves for selected materials ---\n",
    "\n",
    "def plot_materials(keys):\n",
    "    fig, axs = plt.subplots(1, 2, figsize=(12, 6))\n",
    "\n",
    "    for key in keys:\n",
    "        mat = Material.from_string(key)\n",
    "        axs[0].plot(mat.energy, mat.mu_over_rho, label=key)\n",
    "        axs[1].plot(mat.energy, mat.mu_en_over_rho, label=key)\n",
    "\n",
    "    for ax, ylabel, title in zip(\n",
    "        axs,\n",
    "        [\"Mass Attenuation Coefficient [cm²/g]\", \"Mass Energy-Absorption Coefficient [cm²/g]\"],\n",
    "        [\"Mass Attenuation Coefficient vs Energy\", \"Mass Energy-Absorption Coefficient vs Energy\"]\n",
    "    ):\n",
    "        ax.set_xscale(\"log\")\n",
    "        ax.set_yscale(\"log\")\n",
    "        ax.set_xlabel(\"Energy [MeV]\")\n",
    "        ax.set_ylabel(ylabel)\n",
    "        ax.set_title(title)\n",
    "        ax.legend()\n",
    "\n",
    "    plt.tight_layout()\n",
    "    output_dir = os.path.join(script_dir, \"output\")\n",
    "    os.makedirs(output_dir, exist_ok=True)\n",
    "    plt.show()\n",
    "\n",
    "# Plot groups\n",
    "plot_materials([\"bone\", \"bone_0\", \"bone_1\", \"bone_2\", \"bone_3\", \"bone_4\"])\n",
    "plot_materials([\"tissue_soft\", \"soft_0\", \"soft_1\", \"soft_2\", \"soft_3\", \"soft_4\"])\n",
    "plot_materials([\"air\", \"air_0\", \"air_1\", \"air_2\", \"air_3\", \"air_4\"])\n",
    "plot_materials([\"blood\", \"water\"])"
   ]
  },
  {
   "cell_type": "code",
   "execution_count": null,
   "id": "d80df974",
   "metadata": {},
   "outputs": [],
   "source": [
    "# Usage in DeepDRR\n",
    "\n",
    "from deepdrr import Volume\n",
    "\n",
    "# Map paths of binary segmentations to material names\n",
    "file_map = {\n",
    "    \"path/to/bone_binary_segmentation\": \"bone_0\",\n",
    "    \"path/to/tissue_binary_segmentation\": \"soft_0\",\n",
    "    \"path/to/air_binary_segmentation\": \"air_0\",\n",
    "    \"path/to/blood_binary_segmentation\": \"blood_0\",\n",
    "    \"path/to/water_binary_segmentation\": \"water_0\",\n",
    "}\n",
    "\n",
    "# TODO maybe this doesnt work because the casting to true false binaries is not working correctly from loading ie different data types\n",
    "ct_subclustering = Volume.from_nifti(\"path/to/CT\", materials=file_map)"
   ]
  }
 ],
 "metadata": {
  "kernelspec": {
   "display_name": "deepdrr",
   "language": "python",
   "name": "python3"
  },
  "language_info": {
   "codemirror_mode": {
    "name": "ipython",
    "version": 3
   },
   "file_extension": ".py",
   "mimetype": "text/x-python",
   "name": "python",
   "nbconvert_exporter": "python",
   "pygments_lexer": "ipython3",
   "version": "3.10.16"
  }
 },
 "nbformat": 4,
 "nbformat_minor": 5
}
