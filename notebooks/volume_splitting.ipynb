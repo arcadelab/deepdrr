{
 "cells": [
  {
   "cell_type": "code",
   "execution_count": 1,
   "metadata": {},
   "outputs": [],
   "source": [
    "%load_ext autoreload\n",
    "%autoreload 2"
   ]
  },
  {
   "cell_type": "code",
   "execution_count": 2,
   "metadata": {},
   "outputs": [
    {
     "name": "stdout",
     "output_type": "stream",
     "text": [
      "Jupyter environment detected. Enabling Open3D WebVisualizer.\n",
      "[Open3D INFO] WebRTC GUI backend enabled.\n",
      "[Open3D INFO] WebRTCWindowSystem: HTTP handshake server disabled.\n"
     ]
    }
   ],
   "source": [
    "import numpy as np\n",
    "import skimage.io as io\n",
    "\n",
    "from PIL import Image\n",
    "\n",
    "import matplotlib.pyplot as plt\n",
    "\n",
    "import numpy as np\n",
    "import matplotlib.pyplot as plt\n",
    "from scipy import ndimage as ndi\n",
    "\n",
    "from skimage.segmentation import watershed\n",
    "from skimage.feature import peak_local_max\n",
    "\n",
    "import cv2\n",
    "import pyvista as pv\n",
    "\n",
    "from pathlib import Path\n",
    "import zipfile\n",
    "\n",
    "import sklearn.feature_extraction\n",
    "import sklearn.feature_extraction\n",
    "from skimage.segmentation import expand_labels, watershed\n",
    "import skimage.morphology\n",
    "\n",
    "from sklearn.cluster import spectral_clustering\n",
    "\n",
    "from skimage import morphology\n",
    "\n",
    "\n",
    "import deepdrr\n",
    "from deepdrr import Volume\n",
    "from deepdrr import geo\n",
    "from deepdrr.utils import test_utils\n",
    "\n",
    "import nibabel as nib"
   ]
  },
  {
   "cell_type": "code",
   "execution_count": 3,
   "metadata": {},
   "outputs": [],
   "source": [
    "# vol_path = Path(\"/home/pelvisvr/PrephixData/ct_datasets/PrephixNMDID/nifti/BONE_H-N-UXT_3X3/case-100065/segmentations/pulmonary_vein.nii.gz\")\n",
    "vol_path = Path(\"/home/pelvisvr/PrephixData/ct_datasets/PrephixNMDID/nifti/BONE_H-N-UXT_3X3/case-100065/segmentations/skull.nii.gz\")"
   ]
  },
  {
   "cell_type": "code",
   "execution_count": 4,
   "metadata": {},
   "outputs": [
    {
     "data": {
      "text/plain": [
       "[857257.2303771973,\n",
       " 1518.0702209472656,\n",
       " 11.90643310546875,\n",
       " 23.8128662109375,\n",
       " 735.2222442626953,\n",
       " 5.953216552734375,\n",
       " 1354.3567657470703,\n",
       " 17.859649658203125]"
      ]
     },
     "execution_count": 4,
     "metadata": {},
     "output_type": "execute_result"
    }
   ],
   "source": [
    "vol = Volume.from_nifti(vol_path, segmentation=True)\n",
    "vol_cropped = vol.shrink(padding=5)\n",
    "bodies = vol_cropped.split_bodies()\n",
    "\n",
    "[b.volume for b in bodies]"
   ]
  },
  {
   "cell_type": "code",
   "execution_count": 5,
   "metadata": {},
   "outputs": [
    {
     "data": {
      "text/plain": [
       "287998"
      ]
     },
     "execution_count": 5,
     "metadata": {},
     "output_type": "execute_result"
    }
   ],
   "source": [
    "# count nonzero\n",
    "data = bodies[0].data\n",
    "np.count_nonzero(data)"
   ]
  },
  {
   "cell_type": "code",
   "execution_count": 7,
   "metadata": {},
   "outputs": [
    {
     "name": "stderr",
     "output_type": "stream",
     "text": [
      "/home/pelvisvr/mambaforge/envs/prephix/lib/python3.10/site-packages/sklearn/manifold/_spectral_embedding.py:285: UserWarning: Graph is not fully connected, spectral embedding may not work as expected.\n",
      "  warnings.warn(\n"
     ]
    }
   ],
   "source": [
    "\n",
    "\n",
    "# for body in bodies:\n",
    "body = bodies[0]\n",
    "body_shrunk = body.shrink(padding=5)\n",
    "shrunk_downscaled = body_shrunk.downscale((3,3,1), segmentation=True)\n",
    "segmented = shrunk_downscaled.cluster_seg(segmentation=True, n_clusters=9, expand=10)\n",
    "segmented_upscaled = segmented.upscale((3,3,1), segmentation=True, smooth_seg=(3,3,3))\n",
    "\n",
    "split_parts = body_shrunk.split_by_segmentation(segmented_upscaled.data)\n",
    "\n"
   ]
  },
  {
   "cell_type": "code",
   "execution_count": 39,
   "metadata": {},
   "outputs": [
    {
     "name": "stdout",
     "output_type": "stream",
     "text": [
      "Part 0 has 31992 points, 173729.7420501709 volume\n",
      "Part 1 has 32004 points, 261634.93766784668 volume\n",
      "Part 2 has 31988 points, 171172.83554077148 volume\n",
      "Part 3 has 32000 points, 159126.50184631348 volume\n",
      "Part 4 has 31984 points, 28319.451141357422 volume\n",
      "Part 5 has 23264 points, 9224.509048461914 volume\n",
      "Part 6 has 31936 points, 12576.169967651367 volume\n",
      "Part 7 has 31984 points, 33766.644287109375 volume\n",
      "Part 8 has 17984 points, 7706.438827514648 volume\n"
     ]
    }
   ],
   "source": [
    "\n",
    "part_iso_args = dict(\n",
    "    # decimation=0.9,\n",
    "    decimation=0,\n",
    "    # decimation_points=None,\n",
    "    decimation_points=4000,\n",
    "    smooth=False,\n",
    "    convert_to_LPS=True,\n",
    "    taubin_smooth=True,\n",
    "    # taubin_smooth_iter=10,\n",
    "    taubin_smooth_pass_band=0.1\n",
    ")\n",
    "\n",
    "\n",
    "part_names = []\n",
    "for i, part in enumerate(split_parts):\n",
    "    part_poly = part.isosurface(**part_iso_args)\n",
    "    # part_poly = part.isosurface(decimation=0, smooth_iter=0, smooth=False,)\n",
    "    print(f\"Part {i} has {len(part_poly.faces)} points, {part.volume} volume\")\n",
    "    part_path = f\"part_{i}.stl\"\n",
    "    part_poly.save(part_path)\n",
    "    part_names.append(part_path)\n",
    "\n",
    "combined_parts = pv.PolyData()\n",
    "for part_name in part_names:\n",
    "    part_poly = pv.read(part_name)\n",
    "    if len(part_poly.points) == 0:\n",
    "        print(f\"Skipping {part_name}\")\n",
    "        continue\n",
    "    combined_parts = combined_parts.merge(part_poly)\n",
    "\n",
    "# save as combined.stl\n",
    "combined_parts.save(\"combined.stl\")"
   ]
  },
  {
   "cell_type": "code",
   "execution_count": null,
   "metadata": {},
   "outputs": [],
   "source": []
  }
 ],
 "metadata": {
  "kernelspec": {
   "display_name": "deepdrr",
   "language": "python",
   "name": "python3"
  },
  "language_info": {
   "codemirror_mode": {
    "name": "ipython",
    "version": 3
   },
   "file_extension": ".py",
   "mimetype": "text/x-python",
   "name": "python",
   "nbconvert_exporter": "python",
   "pygments_lexer": "ipython3",
   "version": "3.10.13"
  }
 },
 "nbformat": 4,
 "nbformat_minor": 2
}
